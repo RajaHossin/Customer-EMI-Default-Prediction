{
  "nbformat": 4,
  "nbformat_minor": 0,
  "metadata": {
    "colab": {
      "name": "3)\tBuild a model Framework to identify customers .ipynb",
      "provenance": [],
      "collapsed_sections": []
    },
    "kernelspec": {
      "name": "python3",
      "display_name": "Python 3"
    },
    "language_info": {
      "name": "python"
    }
  },
  "cells": [
    {
      "cell_type": "code",
      "execution_count": 1,
      "metadata": {
        "id": "CnnophqbfXWH"
      },
      "outputs": [],
      "source": [
        "import numpy as np\n",
        "import matplotlib.pyplot as plt\n",
        "from sklearn.metrics import mean_squared_error\n",
        "import pandas as pd\n",
        "import random\n",
        "np.random.seed(10)"
      ]
    },
    {
      "cell_type": "code",
      "source": [
        "#load dataset\n",
        "df = pd.read_excel('/content/FinScheduleDetails.xlsx')"
      ],
      "metadata": {
        "id": "Is28J8z_f3G4"
      },
      "execution_count": 2,
      "outputs": []
    },
    {
      "cell_type": "code",
      "source": [
        "df.info()"
      ],
      "metadata": {
        "colab": {
          "base_uri": "https://localhost:8080/"
        },
        "id": "HQM0wNdgg2hD",
        "outputId": "d894eecb-472d-45fb-dffb-7ace4e64b105"
      },
      "execution_count": 3,
      "outputs": [
        {
          "output_type": "stream",
          "name": "stdout",
          "text": [
            "<class 'pandas.core.frame.DataFrame'>\n",
            "RangeIndex: 1052 entries, 0 to 1051\n",
            "Data columns (total 82 columns):\n",
            " #   Column                Non-Null Count  Dtype         \n",
            "---  ------                --------------  -----         \n",
            " 0   FinReference          1052 non-null   object        \n",
            " 1   SchDate               1052 non-null   datetime64[ns]\n",
            " 2   SchSeq                1052 non-null   int64         \n",
            " 3   PftOnSchDate          1052 non-null   bool          \n",
            " 4   CpzOnSchDate          1052 non-null   bool          \n",
            " 5   RepayOnSchDate        1052 non-null   bool          \n",
            " 6   RvwOnSchDate          1052 non-null   bool          \n",
            " 7   DisbOnSchDate         1052 non-null   bool          \n",
            " 8   DefSchdDate           1052 non-null   datetime64[ns]\n",
            " 9   DownpaymentOnSchDate  1052 non-null   bool          \n",
            " 10  BalanceForPftCal      1052 non-null   int64         \n",
            " 11  BaseRate              422 non-null    object        \n",
            " 12  SplRate               0 non-null      float64       \n",
            " 13  MrgRate               1052 non-null   float64       \n",
            " 14  ActRate               1052 non-null   float64       \n",
            " 15  CalculatedRate        1052 non-null   float64       \n",
            " 16  NoOfDays              1052 non-null   int64         \n",
            " 17  CalOnIndRate          1052 non-null   bool          \n",
            " 18  DayFactor             1052 non-null   float64       \n",
            " 19  ProfitCalc            1052 non-null   int64         \n",
            " 20  ProfitSchd            1052 non-null   int64         \n",
            " 21  PrincipalSchd         1052 non-null   int64         \n",
            " 22  RepayAmount           1052 non-null   int64         \n",
            " 23  ProfitBalance         1052 non-null   int64         \n",
            " 24  DisbAmount            1052 non-null   int64         \n",
            " 25  DownPaymentAmount     1052 non-null   int64         \n",
            " 26  CpzAmount             1052 non-null   int64         \n",
            " 27  FeeChargeAmt          1052 non-null   int64         \n",
            " 28  RefundOrWaiver        1052 non-null   int64         \n",
            " 29  ClosingBalance        1052 non-null   int64         \n",
            " 30  PrvRepayAmount        1052 non-null   int64         \n",
            " 31  SchdPftPaid           1052 non-null   int64         \n",
            " 32  SchdPriPaid           1052 non-null   int64         \n",
            " 33  SchPftPaid            1052 non-null   bool          \n",
            " 34  SchPriPaid            1052 non-null   bool          \n",
            " 35  Specifier             1052 non-null   object        \n",
            " 36  SchdMethod            1052 non-null   object        \n",
            " 37  EarlyPaid             1052 non-null   int64         \n",
            " 38  EarlyPaidBal          1052 non-null   int64         \n",
            " 39  WriteoffPrincipal     1052 non-null   int64         \n",
            " 40  WriteoffProfit        1052 non-null   int64         \n",
            " 41  OrgPft                1052 non-null   int64         \n",
            " 42  OrgPri                1052 non-null   int64         \n",
            " 43  OrgEndBal             1052 non-null   int64         \n",
            " 44  OrgPlanPft            1052 non-null   int64         \n",
            " 45  FeeSchd               1052 non-null   int64         \n",
            " 46  SchdFeePaid           1052 non-null   int64         \n",
            " 47  SchdFeeOS             1052 non-null   int64         \n",
            " 48  AdvBaseRate           0 non-null      float64       \n",
            " 49  AdvMargin             1052 non-null   int64         \n",
            " 50  AdvPftRate            1052 non-null   int64         \n",
            " 51  AdvCalRate            1052 non-null   int64         \n",
            " 52  AdvProfit             1052 non-null   int64         \n",
            " 53  AdvRepayAmount        1052 non-null   int64         \n",
            " 54  SuplRent              1052 non-null   int64         \n",
            " 55  IncrCost              1052 non-null   int64         \n",
            " 56  SuplRentPaid          1052 non-null   int64         \n",
            " 57  IncrCostPaid          1052 non-null   int64         \n",
            " 58  RolloverOnSchDate     1052 non-null   bool          \n",
            " 59  RolloverAmount        1052 non-null   int64         \n",
            " 60  RolloverAmountPaid    1052 non-null   int64         \n",
            " 61  TDSAmount             1052 non-null   int64         \n",
            " 62  PftDaysBasis          1052 non-null   object        \n",
            " 63  WriteoffIncrCost      1052 non-null   int64         \n",
            " 64  WriteoffSuplRent      1052 non-null   int64         \n",
            " 65  WriteoffSchFee        1052 non-null   int64         \n",
            " 66  Rebate                6 non-null      float64       \n",
            " 67  InsuranceAmt          1052 non-null   int64         \n",
            " 68  InstNumber            1052 non-null   int64         \n",
            " 69  BpiOrHoliday          22 non-null     object        \n",
            " 70  FrqDate               1052 non-null   bool          \n",
            " 71  InsSchd               1052 non-null   int64         \n",
            " 72  SchdInsPaid           1052 non-null   int64         \n",
            " 73  WriteoffIns           1052 non-null   int64         \n",
            " 74  PRESENTMENTID         1052 non-null   int64         \n",
            " 75  TDSPaid               1052 non-null   int64         \n",
            " 76  ProfitFraction        1052 non-null   float64       \n",
            " 77  PartialPaidAmt        1052 non-null   int64         \n",
            " 78  FEETAX                0 non-null      float64       \n",
            " 79  TDSApplicable         1052 non-null   bool          \n",
            " 80  SchdPftWaiver         1052 non-null   int64         \n",
            " 81  FINID                 0 non-null      float64       \n",
            "dtypes: bool(12), datetime64[ns](2), float64(10), int64(52), object(6)\n",
            "memory usage: 587.8+ KB\n"
          ]
        }
      ]
    },
    {
      "cell_type": "code",
      "source": [
        "df.dropna(how='all', axis=1, inplace=True)"
      ],
      "metadata": {
        "id": "3PwDY8b_j1KO"
      },
      "execution_count": 4,
      "outputs": []
    },
    {
      "cell_type": "code",
      "source": [
        "result = df.select_dtypes(include='number')\n",
        "print(result)"
      ],
      "metadata": {
        "colab": {
          "base_uri": "https://localhost:8080/"
        },
        "id": "7UmxX5khjI8K",
        "outputId": "f3e1f1bb-0d25-4080-b87c-ccb7ec1d9a49"
      },
      "execution_count": 6,
      "outputs": [
        {
          "output_type": "stream",
          "name": "stdout",
          "text": [
            "      SchSeq  BalanceForPftCal  MrgRate  ActRate  CalculatedRate  NoOfDays  \\\n",
            "0          1        1360464000      0.8      0.0           13.45        31   \n",
            "1          1        1344777300      0.8      0.0           13.45        30   \n",
            "2          1        1336801800      0.8      0.0           13.45        31   \n",
            "3          1        1328736900      0.8      0.0           13.45        30   \n",
            "4          1        1320581600      0.8      0.0           13.45        31   \n",
            "...      ...               ...      ...      ...             ...       ...   \n",
            "1047       1         782347400      1.1      0.0           13.75        30   \n",
            "1048       1         780494100      1.1      0.0           13.75        31   \n",
            "1049       1         778619600      1.1      0.0           13.75        31   \n",
            "1050       1         776723600      1.1      0.0           13.75        28   \n",
            "1051       1         774805900      1.1      0.0           13.75        31   \n",
            "\n",
            "      DayFactor  ProfitCalc  ProfitSchd  PrincipalSchd  ...  InsuranceAmt  \\\n",
            "0      0.083333    15248600    15248600        7799600  ...             0   \n",
            "1      0.083333    15072700    15072700        7975500  ...             0   \n",
            "2      0.083333    14983300    14983300        8064900  ...             0   \n",
            "3      0.083333    14892900    14892900        8155300  ...             0   \n",
            "4      0.083333    14801600    14801600        8246600  ...             0   \n",
            "...         ...         ...         ...            ...  ...           ...   \n",
            "1047   0.083333     8964400     8964400        1853300  ...             0   \n",
            "1048   0.083333     8943200     8943200        1874500  ...             0   \n",
            "1049   0.083333     8921700     8921700        1896000  ...             0   \n",
            "1050   0.083333     8900000     8900000        1917700  ...             0   \n",
            "1051   0.083333     8878000     8878000        1939700  ...             0   \n",
            "\n",
            "      InstNumber  InsSchd  SchdInsPaid  WriteoffIns  PRESENTMENTID  TDSPaid  \\\n",
            "0            148        0            0            0              0        0   \n",
            "1            150        0            0            0              0        0   \n",
            "2            151        0            0            0              0        0   \n",
            "3            152        0            0            0              0        0   \n",
            "4            153        0            0            0              0        0   \n",
            "...          ...      ...          ...          ...            ...      ...   \n",
            "1047           3        0            0            0              0        0   \n",
            "1048           4        0            0            0              0        0   \n",
            "1049           5        0            0            0              0        0   \n",
            "1050           6        0            0            0              0        0   \n",
            "1051           7        0            0            0              0        0   \n",
            "\n",
            "      ProfitFraction  PartialPaidAmt  SchdPftWaiver  \n",
            "0         -24.486389               0              0  \n",
            "1           1.234444               0              0  \n",
            "2          21.409444               0              0  \n",
            "3          47.496944               0              0  \n",
            "4         -33.736389               0              0  \n",
            "...              ...             ...            ...  \n",
            "1047        0.000000               0              0  \n",
            "1048        0.000000               0              0  \n",
            "1049        0.000000               0              0  \n",
            "1050        0.000000               0              0  \n",
            "1051        0.000000               0              0  \n",
            "\n",
            "[1052 rows x 58 columns]\n"
          ]
        }
      ]
    },
    {
      "cell_type": "code",
      "source": [
        "result.info()"
      ],
      "metadata": {
        "colab": {
          "base_uri": "https://localhost:8080/"
        },
        "id": "lwaGyqS9k0m7",
        "outputId": "d80f3a7b-d6e2-48bb-85d0-7cf854f18f90"
      },
      "execution_count": 7,
      "outputs": [
        {
          "output_type": "stream",
          "name": "stdout",
          "text": [
            "<class 'pandas.core.frame.DataFrame'>\n",
            "RangeIndex: 1052 entries, 0 to 1051\n",
            "Data columns (total 58 columns):\n",
            " #   Column              Non-Null Count  Dtype  \n",
            "---  ------              --------------  -----  \n",
            " 0   SchSeq              1052 non-null   int64  \n",
            " 1   BalanceForPftCal    1052 non-null   int64  \n",
            " 2   MrgRate             1052 non-null   float64\n",
            " 3   ActRate             1052 non-null   float64\n",
            " 4   CalculatedRate      1052 non-null   float64\n",
            " 5   NoOfDays            1052 non-null   int64  \n",
            " 6   DayFactor           1052 non-null   float64\n",
            " 7   ProfitCalc          1052 non-null   int64  \n",
            " 8   ProfitSchd          1052 non-null   int64  \n",
            " 9   PrincipalSchd       1052 non-null   int64  \n",
            " 10  RepayAmount         1052 non-null   int64  \n",
            " 11  ProfitBalance       1052 non-null   int64  \n",
            " 12  DisbAmount          1052 non-null   int64  \n",
            " 13  DownPaymentAmount   1052 non-null   int64  \n",
            " 14  CpzAmount           1052 non-null   int64  \n",
            " 15  FeeChargeAmt        1052 non-null   int64  \n",
            " 16  RefundOrWaiver      1052 non-null   int64  \n",
            " 17  ClosingBalance      1052 non-null   int64  \n",
            " 18  PrvRepayAmount      1052 non-null   int64  \n",
            " 19  SchdPftPaid         1052 non-null   int64  \n",
            " 20  SchdPriPaid         1052 non-null   int64  \n",
            " 21  EarlyPaid           1052 non-null   int64  \n",
            " 22  EarlyPaidBal        1052 non-null   int64  \n",
            " 23  WriteoffPrincipal   1052 non-null   int64  \n",
            " 24  WriteoffProfit      1052 non-null   int64  \n",
            " 25  OrgPft              1052 non-null   int64  \n",
            " 26  OrgPri              1052 non-null   int64  \n",
            " 27  OrgEndBal           1052 non-null   int64  \n",
            " 28  OrgPlanPft          1052 non-null   int64  \n",
            " 29  FeeSchd             1052 non-null   int64  \n",
            " 30  SchdFeePaid         1052 non-null   int64  \n",
            " 31  SchdFeeOS           1052 non-null   int64  \n",
            " 32  AdvMargin           1052 non-null   int64  \n",
            " 33  AdvPftRate          1052 non-null   int64  \n",
            " 34  AdvCalRate          1052 non-null   int64  \n",
            " 35  AdvProfit           1052 non-null   int64  \n",
            " 36  AdvRepayAmount      1052 non-null   int64  \n",
            " 37  SuplRent            1052 non-null   int64  \n",
            " 38  IncrCost            1052 non-null   int64  \n",
            " 39  SuplRentPaid        1052 non-null   int64  \n",
            " 40  IncrCostPaid        1052 non-null   int64  \n",
            " 41  RolloverAmount      1052 non-null   int64  \n",
            " 42  RolloverAmountPaid  1052 non-null   int64  \n",
            " 43  TDSAmount           1052 non-null   int64  \n",
            " 44  WriteoffIncrCost    1052 non-null   int64  \n",
            " 45  WriteoffSuplRent    1052 non-null   int64  \n",
            " 46  WriteoffSchFee      1052 non-null   int64  \n",
            " 47  Rebate              6 non-null      float64\n",
            " 48  InsuranceAmt        1052 non-null   int64  \n",
            " 49  InstNumber          1052 non-null   int64  \n",
            " 50  InsSchd             1052 non-null   int64  \n",
            " 51  SchdInsPaid         1052 non-null   int64  \n",
            " 52  WriteoffIns         1052 non-null   int64  \n",
            " 53  PRESENTMENTID       1052 non-null   int64  \n",
            " 54  TDSPaid             1052 non-null   int64  \n",
            " 55  ProfitFraction      1052 non-null   float64\n",
            " 56  PartialPaidAmt      1052 non-null   int64  \n",
            " 57  SchdPftWaiver       1052 non-null   int64  \n",
            "dtypes: float64(6), int64(52)\n",
            "memory usage: 476.8 KB\n"
          ]
        }
      ]
    },
    {
      "cell_type": "code",
      "source": [
        "result=result.fillna(result.median())"
      ],
      "metadata": {
        "id": "lEVYVhNmlKve"
      },
      "execution_count": 8,
      "outputs": []
    },
    {
      "cell_type": "code",
      "source": [
        "result.info()"
      ],
      "metadata": {
        "colab": {
          "base_uri": "https://localhost:8080/"
        },
        "id": "Ze35KTUYmHWO",
        "outputId": "28a14804-61e0-4f25-ad29-bd0bbe27ae8c"
      },
      "execution_count": 9,
      "outputs": [
        {
          "output_type": "stream",
          "name": "stdout",
          "text": [
            "<class 'pandas.core.frame.DataFrame'>\n",
            "RangeIndex: 1052 entries, 0 to 1051\n",
            "Data columns (total 58 columns):\n",
            " #   Column              Non-Null Count  Dtype  \n",
            "---  ------              --------------  -----  \n",
            " 0   SchSeq              1052 non-null   int64  \n",
            " 1   BalanceForPftCal    1052 non-null   int64  \n",
            " 2   MrgRate             1052 non-null   float64\n",
            " 3   ActRate             1052 non-null   float64\n",
            " 4   CalculatedRate      1052 non-null   float64\n",
            " 5   NoOfDays            1052 non-null   int64  \n",
            " 6   DayFactor           1052 non-null   float64\n",
            " 7   ProfitCalc          1052 non-null   int64  \n",
            " 8   ProfitSchd          1052 non-null   int64  \n",
            " 9   PrincipalSchd       1052 non-null   int64  \n",
            " 10  RepayAmount         1052 non-null   int64  \n",
            " 11  ProfitBalance       1052 non-null   int64  \n",
            " 12  DisbAmount          1052 non-null   int64  \n",
            " 13  DownPaymentAmount   1052 non-null   int64  \n",
            " 14  CpzAmount           1052 non-null   int64  \n",
            " 15  FeeChargeAmt        1052 non-null   int64  \n",
            " 16  RefundOrWaiver      1052 non-null   int64  \n",
            " 17  ClosingBalance      1052 non-null   int64  \n",
            " 18  PrvRepayAmount      1052 non-null   int64  \n",
            " 19  SchdPftPaid         1052 non-null   int64  \n",
            " 20  SchdPriPaid         1052 non-null   int64  \n",
            " 21  EarlyPaid           1052 non-null   int64  \n",
            " 22  EarlyPaidBal        1052 non-null   int64  \n",
            " 23  WriteoffPrincipal   1052 non-null   int64  \n",
            " 24  WriteoffProfit      1052 non-null   int64  \n",
            " 25  OrgPft              1052 non-null   int64  \n",
            " 26  OrgPri              1052 non-null   int64  \n",
            " 27  OrgEndBal           1052 non-null   int64  \n",
            " 28  OrgPlanPft          1052 non-null   int64  \n",
            " 29  FeeSchd             1052 non-null   int64  \n",
            " 30  SchdFeePaid         1052 non-null   int64  \n",
            " 31  SchdFeeOS           1052 non-null   int64  \n",
            " 32  AdvMargin           1052 non-null   int64  \n",
            " 33  AdvPftRate          1052 non-null   int64  \n",
            " 34  AdvCalRate          1052 non-null   int64  \n",
            " 35  AdvProfit           1052 non-null   int64  \n",
            " 36  AdvRepayAmount      1052 non-null   int64  \n",
            " 37  SuplRent            1052 non-null   int64  \n",
            " 38  IncrCost            1052 non-null   int64  \n",
            " 39  SuplRentPaid        1052 non-null   int64  \n",
            " 40  IncrCostPaid        1052 non-null   int64  \n",
            " 41  RolloverAmount      1052 non-null   int64  \n",
            " 42  RolloverAmountPaid  1052 non-null   int64  \n",
            " 43  TDSAmount           1052 non-null   int64  \n",
            " 44  WriteoffIncrCost    1052 non-null   int64  \n",
            " 45  WriteoffSuplRent    1052 non-null   int64  \n",
            " 46  WriteoffSchFee      1052 non-null   int64  \n",
            " 47  Rebate              1052 non-null   float64\n",
            " 48  InsuranceAmt        1052 non-null   int64  \n",
            " 49  InstNumber          1052 non-null   int64  \n",
            " 50  InsSchd             1052 non-null   int64  \n",
            " 51  SchdInsPaid         1052 non-null   int64  \n",
            " 52  WriteoffIns         1052 non-null   int64  \n",
            " 53  PRESENTMENTID       1052 non-null   int64  \n",
            " 54  TDSPaid             1052 non-null   int64  \n",
            " 55  ProfitFraction      1052 non-null   float64\n",
            " 56  PartialPaidAmt      1052 non-null   int64  \n",
            " 57  SchdPftWaiver       1052 non-null   int64  \n",
            "dtypes: float64(6), int64(52)\n",
            "memory usage: 476.8 KB\n"
          ]
        }
      ]
    },
    {
      "cell_type": "code",
      "source": [
        "\n",
        "# A succinct way to convert a single column of boolean values to a column of integers 1 or 0:\n",
        "\n",
        "df[\"Target\"] = df[\"RepayOnSchDate\"].astype(int)"
      ],
      "metadata": {
        "id": "5h9tnRJpnNUD"
      },
      "execution_count": 10,
      "outputs": []
    },
    {
      "cell_type": "code",
      "source": [
        "#Percentage of on tyme payment\n",
        "df[\"Target\"].mean()"
      ],
      "metadata": {
        "colab": {
          "base_uri": "https://localhost:8080/"
        },
        "id": "HUxdfE6yncqd",
        "outputId": "1e8b9cbc-cb28-4532-9b48-66ab36018ba3"
      },
      "execution_count": 5,
      "outputs": [
        {
          "output_type": "execute_result",
          "data": {
            "text/plain": [
              "0.9876425855513308"
            ]
          },
          "metadata": {},
          "execution_count": 5
        }
      ]
    },
    {
      "cell_type": "code",
      "source": [
        "result[\"Target\"]=df[\"Target\"]"
      ],
      "metadata": {
        "id": "rXSOW3Y4ovqv"
      },
      "execution_count": 12,
      "outputs": []
    },
    {
      "cell_type": "code",
      "source": [
        "# Target Variable assumed ==  RepayOnSchDate"
      ],
      "metadata": {
        "id": "KTVY2HwnmRy7"
      },
      "execution_count": 11,
      "outputs": []
    },
    {
      "cell_type": "code",
      "source": [
        "result.shape"
      ],
      "metadata": {
        "colab": {
          "base_uri": "https://localhost:8080/"
        },
        "id": "xuKSUBHtprtu",
        "outputId": "70ae2aea-9310-4c8a-c2d0-5a8ad7c6771c"
      },
      "execution_count": 14,
      "outputs": [
        {
          "output_type": "execute_result",
          "data": {
            "text/plain": [
              "(1052, 59)"
            ]
          },
          "metadata": {},
          "execution_count": 14
        }
      ]
    },
    {
      "cell_type": "code",
      "source": [
        "#Feature Selection by mutual information\n",
        "\n",
        "from sklearn.feature_selection import SelectKBest, mutual_info_classif\n",
        "selector = SelectKBest(mutual_info_classif, k=10)\n",
        "Y=df[\"Target\"].tolist()\n",
        "X=selector.fit_transform(result.iloc[:,0:58], Y)\n",
        "X.shape\n"
      ],
      "metadata": {
        "colab": {
          "base_uri": "https://localhost:8080/"
        },
        "id": "S4mLftnDo7LW",
        "outputId": "dcc0b9e2-1853-40d7-f579-37faa681124f"
      },
      "execution_count": 32,
      "outputs": [
        {
          "output_type": "execute_result",
          "data": {
            "text/plain": [
              "(1052, 10)"
            ]
          },
          "metadata": {},
          "execution_count": 32
        }
      ]
    },
    {
      "cell_type": "code",
      "source": [
        "\n",
        "# Selected Variable\n",
        "cols = selector.get_support(indices=True)\n",
        "selected_columns =result.iloc[:,cols].columns.tolist()\n",
        "selected_columns"
      ],
      "metadata": {
        "colab": {
          "base_uri": "https://localhost:8080/"
        },
        "id": "100ycwfGsPNo",
        "outputId": "664a1d6c-aa5c-4112-c01f-049ce44d3e78"
      },
      "execution_count": 33,
      "outputs": [
        {
          "output_type": "execute_result",
          "data": {
            "text/plain": [
              "['NoOfDays',\n",
              " 'DayFactor',\n",
              " 'ProfitSchd',\n",
              " 'PrincipalSchd',\n",
              " 'RepayAmount',\n",
              " 'ProfitBalance',\n",
              " 'DisbAmount',\n",
              " 'CpzAmount',\n",
              " 'InstNumber',\n",
              " 'ProfitFraction']"
            ]
          },
          "metadata": {},
          "execution_count": 33
        }
      ]
    },
    {
      "cell_type": "code",
      "source": [
        "corr_mat = pd.DataFrame(X, columns=selected_columns).corr(method='pearson')\n",
        "corr_mat"
      ],
      "metadata": {
        "colab": {
          "base_uri": "https://localhost:8080/",
          "height": 363
        },
        "id": "S-x5mfT4tqiN",
        "outputId": "230f5cc8-e646-4359-d65e-1ad998e00e81"
      },
      "execution_count": 44,
      "outputs": [
        {
          "output_type": "execute_result",
          "data": {
            "text/plain": [
              "                NoOfDays  DayFactor  ProfitSchd  PrincipalSchd  RepayAmount  \\\n",
              "NoOfDays        1.000000   0.946587    0.136199       0.057260     0.172950   \n",
              "DayFactor       0.946587   1.000000    0.147260       0.059596     0.185152   \n",
              "ProfitSchd      0.136199   0.147260    1.000000      -0.341485     0.662934   \n",
              "PrincipalSchd   0.057260   0.059596   -0.341485       1.000000     0.477291   \n",
              "RepayAmount     0.172950   0.185152    0.662934       0.477291     1.000000   \n",
              "ProfitBalance  -0.035457  -0.041553   -0.212151      -0.169014    -0.332980   \n",
              "DisbAmount     -0.624904  -0.657401   -0.090656      -0.073057    -0.142953   \n",
              "CpzAmount      -0.030998  -0.036862   -0.211505      -0.170446    -0.333517   \n",
              "InstNumber      0.165873   0.172353   -0.500361       0.731136     0.114583   \n",
              "ProfitFraction  0.006112  -0.001151   -0.047788       0.026784    -0.023344   \n",
              "\n",
              "                ProfitBalance  DisbAmount  CpzAmount  InstNumber  \\\n",
              "NoOfDays            -0.035457   -0.624904  -0.030998    0.165873   \n",
              "DayFactor           -0.041553   -0.657401  -0.036862    0.172353   \n",
              "ProfitSchd          -0.212151   -0.090656  -0.211505   -0.500361   \n",
              "PrincipalSchd       -0.169014   -0.073057  -0.170446    0.731136   \n",
              "RepayAmount         -0.332980   -0.142953  -0.333517    0.114583   \n",
              "ProfitBalance        1.000000   -0.006694   0.999922   -0.169274   \n",
              "DisbAmount          -0.006694    1.000000  -0.006673   -0.091524   \n",
              "CpzAmount            0.999922   -0.006673   1.000000   -0.168618   \n",
              "InstNumber          -0.169274   -0.091524  -0.168618    1.000000   \n",
              "ProfitFraction       0.000422    0.000709   0.000827    0.008713   \n",
              "\n",
              "                ProfitFraction  \n",
              "NoOfDays              0.006112  \n",
              "DayFactor            -0.001151  \n",
              "ProfitSchd           -0.047788  \n",
              "PrincipalSchd         0.026784  \n",
              "RepayAmount          -0.023344  \n",
              "ProfitBalance         0.000422  \n",
              "DisbAmount            0.000709  \n",
              "CpzAmount             0.000827  \n",
              "InstNumber            0.008713  \n",
              "ProfitFraction        1.000000  "
            ],
            "text/html": [
              "\n",
              "  <div id=\"df-12b19ea8-7873-42a3-bb54-ef0f9f5f7eec\">\n",
              "    <div class=\"colab-df-container\">\n",
              "      <div>\n",
              "<style scoped>\n",
              "    .dataframe tbody tr th:only-of-type {\n",
              "        vertical-align: middle;\n",
              "    }\n",
              "\n",
              "    .dataframe tbody tr th {\n",
              "        vertical-align: top;\n",
              "    }\n",
              "\n",
              "    .dataframe thead th {\n",
              "        text-align: right;\n",
              "    }\n",
              "</style>\n",
              "<table border=\"1\" class=\"dataframe\">\n",
              "  <thead>\n",
              "    <tr style=\"text-align: right;\">\n",
              "      <th></th>\n",
              "      <th>NoOfDays</th>\n",
              "      <th>DayFactor</th>\n",
              "      <th>ProfitSchd</th>\n",
              "      <th>PrincipalSchd</th>\n",
              "      <th>RepayAmount</th>\n",
              "      <th>ProfitBalance</th>\n",
              "      <th>DisbAmount</th>\n",
              "      <th>CpzAmount</th>\n",
              "      <th>InstNumber</th>\n",
              "      <th>ProfitFraction</th>\n",
              "    </tr>\n",
              "  </thead>\n",
              "  <tbody>\n",
              "    <tr>\n",
              "      <th>NoOfDays</th>\n",
              "      <td>1.000000</td>\n",
              "      <td>0.946587</td>\n",
              "      <td>0.136199</td>\n",
              "      <td>0.057260</td>\n",
              "      <td>0.172950</td>\n",
              "      <td>-0.035457</td>\n",
              "      <td>-0.624904</td>\n",
              "      <td>-0.030998</td>\n",
              "      <td>0.165873</td>\n",
              "      <td>0.006112</td>\n",
              "    </tr>\n",
              "    <tr>\n",
              "      <th>DayFactor</th>\n",
              "      <td>0.946587</td>\n",
              "      <td>1.000000</td>\n",
              "      <td>0.147260</td>\n",
              "      <td>0.059596</td>\n",
              "      <td>0.185152</td>\n",
              "      <td>-0.041553</td>\n",
              "      <td>-0.657401</td>\n",
              "      <td>-0.036862</td>\n",
              "      <td>0.172353</td>\n",
              "      <td>-0.001151</td>\n",
              "    </tr>\n",
              "    <tr>\n",
              "      <th>ProfitSchd</th>\n",
              "      <td>0.136199</td>\n",
              "      <td>0.147260</td>\n",
              "      <td>1.000000</td>\n",
              "      <td>-0.341485</td>\n",
              "      <td>0.662934</td>\n",
              "      <td>-0.212151</td>\n",
              "      <td>-0.090656</td>\n",
              "      <td>-0.211505</td>\n",
              "      <td>-0.500361</td>\n",
              "      <td>-0.047788</td>\n",
              "    </tr>\n",
              "    <tr>\n",
              "      <th>PrincipalSchd</th>\n",
              "      <td>0.057260</td>\n",
              "      <td>0.059596</td>\n",
              "      <td>-0.341485</td>\n",
              "      <td>1.000000</td>\n",
              "      <td>0.477291</td>\n",
              "      <td>-0.169014</td>\n",
              "      <td>-0.073057</td>\n",
              "      <td>-0.170446</td>\n",
              "      <td>0.731136</td>\n",
              "      <td>0.026784</td>\n",
              "    </tr>\n",
              "    <tr>\n",
              "      <th>RepayAmount</th>\n",
              "      <td>0.172950</td>\n",
              "      <td>0.185152</td>\n",
              "      <td>0.662934</td>\n",
              "      <td>0.477291</td>\n",
              "      <td>1.000000</td>\n",
              "      <td>-0.332980</td>\n",
              "      <td>-0.142953</td>\n",
              "      <td>-0.333517</td>\n",
              "      <td>0.114583</td>\n",
              "      <td>-0.023344</td>\n",
              "    </tr>\n",
              "    <tr>\n",
              "      <th>ProfitBalance</th>\n",
              "      <td>-0.035457</td>\n",
              "      <td>-0.041553</td>\n",
              "      <td>-0.212151</td>\n",
              "      <td>-0.169014</td>\n",
              "      <td>-0.332980</td>\n",
              "      <td>1.000000</td>\n",
              "      <td>-0.006694</td>\n",
              "      <td>0.999922</td>\n",
              "      <td>-0.169274</td>\n",
              "      <td>0.000422</td>\n",
              "    </tr>\n",
              "    <tr>\n",
              "      <th>DisbAmount</th>\n",
              "      <td>-0.624904</td>\n",
              "      <td>-0.657401</td>\n",
              "      <td>-0.090656</td>\n",
              "      <td>-0.073057</td>\n",
              "      <td>-0.142953</td>\n",
              "      <td>-0.006694</td>\n",
              "      <td>1.000000</td>\n",
              "      <td>-0.006673</td>\n",
              "      <td>-0.091524</td>\n",
              "      <td>0.000709</td>\n",
              "    </tr>\n",
              "    <tr>\n",
              "      <th>CpzAmount</th>\n",
              "      <td>-0.030998</td>\n",
              "      <td>-0.036862</td>\n",
              "      <td>-0.211505</td>\n",
              "      <td>-0.170446</td>\n",
              "      <td>-0.333517</td>\n",
              "      <td>0.999922</td>\n",
              "      <td>-0.006673</td>\n",
              "      <td>1.000000</td>\n",
              "      <td>-0.168618</td>\n",
              "      <td>0.000827</td>\n",
              "    </tr>\n",
              "    <tr>\n",
              "      <th>InstNumber</th>\n",
              "      <td>0.165873</td>\n",
              "      <td>0.172353</td>\n",
              "      <td>-0.500361</td>\n",
              "      <td>0.731136</td>\n",
              "      <td>0.114583</td>\n",
              "      <td>-0.169274</td>\n",
              "      <td>-0.091524</td>\n",
              "      <td>-0.168618</td>\n",
              "      <td>1.000000</td>\n",
              "      <td>0.008713</td>\n",
              "    </tr>\n",
              "    <tr>\n",
              "      <th>ProfitFraction</th>\n",
              "      <td>0.006112</td>\n",
              "      <td>-0.001151</td>\n",
              "      <td>-0.047788</td>\n",
              "      <td>0.026784</td>\n",
              "      <td>-0.023344</td>\n",
              "      <td>0.000422</td>\n",
              "      <td>0.000709</td>\n",
              "      <td>0.000827</td>\n",
              "      <td>0.008713</td>\n",
              "      <td>1.000000</td>\n",
              "    </tr>\n",
              "  </tbody>\n",
              "</table>\n",
              "</div>\n",
              "      <button class=\"colab-df-convert\" onclick=\"convertToInteractive('df-12b19ea8-7873-42a3-bb54-ef0f9f5f7eec')\"\n",
              "              title=\"Convert this dataframe to an interactive table.\"\n",
              "              style=\"display:none;\">\n",
              "        \n",
              "  <svg xmlns=\"http://www.w3.org/2000/svg\" height=\"24px\"viewBox=\"0 0 24 24\"\n",
              "       width=\"24px\">\n",
              "    <path d=\"M0 0h24v24H0V0z\" fill=\"none\"/>\n",
              "    <path d=\"M18.56 5.44l.94 2.06.94-2.06 2.06-.94-2.06-.94-.94-2.06-.94 2.06-2.06.94zm-11 1L8.5 8.5l.94-2.06 2.06-.94-2.06-.94L8.5 2.5l-.94 2.06-2.06.94zm10 10l.94 2.06.94-2.06 2.06-.94-2.06-.94-.94-2.06-.94 2.06-2.06.94z\"/><path d=\"M17.41 7.96l-1.37-1.37c-.4-.4-.92-.59-1.43-.59-.52 0-1.04.2-1.43.59L10.3 9.45l-7.72 7.72c-.78.78-.78 2.05 0 2.83L4 21.41c.39.39.9.59 1.41.59.51 0 1.02-.2 1.41-.59l7.78-7.78 2.81-2.81c.8-.78.8-2.07 0-2.86zM5.41 20L4 18.59l7.72-7.72 1.47 1.35L5.41 20z\"/>\n",
              "  </svg>\n",
              "      </button>\n",
              "      \n",
              "  <style>\n",
              "    .colab-df-container {\n",
              "      display:flex;\n",
              "      flex-wrap:wrap;\n",
              "      gap: 12px;\n",
              "    }\n",
              "\n",
              "    .colab-df-convert {\n",
              "      background-color: #E8F0FE;\n",
              "      border: none;\n",
              "      border-radius: 50%;\n",
              "      cursor: pointer;\n",
              "      display: none;\n",
              "      fill: #1967D2;\n",
              "      height: 32px;\n",
              "      padding: 0 0 0 0;\n",
              "      width: 32px;\n",
              "    }\n",
              "\n",
              "    .colab-df-convert:hover {\n",
              "      background-color: #E2EBFA;\n",
              "      box-shadow: 0px 1px 2px rgba(60, 64, 67, 0.3), 0px 1px 3px 1px rgba(60, 64, 67, 0.15);\n",
              "      fill: #174EA6;\n",
              "    }\n",
              "\n",
              "    [theme=dark] .colab-df-convert {\n",
              "      background-color: #3B4455;\n",
              "      fill: #D2E3FC;\n",
              "    }\n",
              "\n",
              "    [theme=dark] .colab-df-convert:hover {\n",
              "      background-color: #434B5C;\n",
              "      box-shadow: 0px 1px 3px 1px rgba(0, 0, 0, 0.15);\n",
              "      filter: drop-shadow(0px 1px 2px rgba(0, 0, 0, 0.3));\n",
              "      fill: #FFFFFF;\n",
              "    }\n",
              "  </style>\n",
              "\n",
              "      <script>\n",
              "        const buttonEl =\n",
              "          document.querySelector('#df-12b19ea8-7873-42a3-bb54-ef0f9f5f7eec button.colab-df-convert');\n",
              "        buttonEl.style.display =\n",
              "          google.colab.kernel.accessAllowed ? 'block' : 'none';\n",
              "\n",
              "        async function convertToInteractive(key) {\n",
              "          const element = document.querySelector('#df-12b19ea8-7873-42a3-bb54-ef0f9f5f7eec');\n",
              "          const dataTable =\n",
              "            await google.colab.kernel.invokeFunction('convertToInteractive',\n",
              "                                                     [key], {});\n",
              "          if (!dataTable) return;\n",
              "\n",
              "          const docLinkHtml = 'Like what you see? Visit the ' +\n",
              "            '<a target=\"_blank\" href=https://colab.research.google.com/notebooks/data_table.ipynb>data table notebook</a>'\n",
              "            + ' to learn more about interactive tables.';\n",
              "          element.innerHTML = '';\n",
              "          dataTable['output_type'] = 'display_data';\n",
              "          await google.colab.output.renderOutput(dataTable, element);\n",
              "          const docLink = document.createElement('div');\n",
              "          docLink.innerHTML = docLinkHtml;\n",
              "          element.appendChild(docLink);\n",
              "        }\n",
              "      </script>\n",
              "    </div>\n",
              "  </div>\n",
              "  "
            ]
          },
          "metadata": {},
          "execution_count": 44
        }
      ]
    },
    {
      "cell_type": "code",
      "source": [
        "\n",
        "# Run this program on your local python\n",
        "# interpreter, provided you have installed\n",
        "# the required libraries.\n",
        "  \n",
        "# Importing the required packages\n",
        "import numpy as np\n",
        "import pandas as pd\n",
        "from sklearn.metrics import confusion_matrix\n",
        "from sklearn.model_selection import train_test_split\n",
        "from sklearn.tree import DecisionTreeClassifier\n",
        "from sklearn.metrics import accuracy_score\n",
        "from sklearn.metrics import classification_report"
      ],
      "metadata": {
        "id": "SsrZzu4pvCIE"
      },
      "execution_count": 50,
      "outputs": []
    },
    {
      "cell_type": "code",
      "source": [
        " # Separating the target variable\n",
        "X =pd.DataFrame(X, columns=selected_columns)\n",
        "Y =df[\"Target\"]\n",
        "# Splitting the dataset into train and test\n",
        "X_train, X_test, y_train, y_test = train_test_split( X, Y, test_size = 0.3, random_state = 100)\n",
        "      \n"
      ],
      "metadata": {
        "id": "cj2o2xNwvOEC"
      },
      "execution_count": 52,
      "outputs": []
    },
    {
      "cell_type": "code",
      "source": [
        "# Function to perform training with giniIndex.\n",
        "def train_using_gini(X_train, X_test, y_train):\n",
        "  \n",
        "    # Creating the classifier object\n",
        "    clf_gini = DecisionTreeClassifier(criterion = \"gini\",\n",
        "            random_state = 100,max_depth=3, min_samples_leaf=5)\n",
        "  \n",
        "    # Performing training\n",
        "    clf_gini.fit(X_train, y_train)\n",
        "    return clf_gini\n",
        "# Function to perform training with entropy.\n",
        "def tarin_using_entropy(X_train, X_test, y_train):\n",
        "  \n",
        "    # Decision tree with entropy\n",
        "    clf_entropy = DecisionTreeClassifier(\n",
        "            criterion = \"entropy\", random_state = 100,\n",
        "            max_depth = 3, min_samples_leaf = 5)\n",
        "  \n",
        "    # Performing training\n",
        "    clf_entropy.fit(X_train, y_train)\n",
        "    return clf_entropy\n",
        "\n",
        "# Function to perform training with entropy.\n",
        "def tarin_using_entropy(X_train, X_test, y_train):\n",
        "  \n",
        "    # Decision tree with entropy\n",
        "    clf_entropy = DecisionTreeClassifier(\n",
        "            criterion = \"entropy\", random_state = 100,\n",
        "            max_depth = 3, min_samples_leaf = 5)\n",
        "  \n",
        "    # Performing training\n",
        "    clf_entropy.fit(X_train, y_train)\n",
        "    return clf_entropy\n",
        "  \n",
        "  \n",
        "# Function to make predictions\n",
        "def prediction(X_test, clf_object):\n",
        "  \n",
        "    # Predicton on test with giniIndex\n",
        "    y_pred = clf_object.predict(X_test)\n",
        "    print(\"Predicted values:\")\n",
        "    print(y_pred)\n",
        "    return y_pred"
      ],
      "metadata": {
        "id": "Lm3QIUJWvmpV"
      },
      "execution_count": 53,
      "outputs": []
    },
    {
      "cell_type": "code",
      "source": [
        "# Function to calculate accuracy\n",
        "def cal_accuracy(y_test, y_pred):\n",
        "      \n",
        "    print(\"Confusion Matrix: \",\n",
        "        confusion_matrix(y_test, y_pred))\n",
        "      \n",
        "    print (\"Accuracy : \",\n",
        "    accuracy_score(y_test,y_pred)*100)\n",
        "      \n",
        "    print(\"Report : \",\n",
        "    classification_report(y_test, y_pred))\n",
        "  \n",
        "# Driver code\n",
        "def main( X_train, X_test, y_train, y_test):\n",
        "\n",
        "    clf_gini = train_using_gini(X_train, X_test, y_train)\n",
        "    clf_entropy = tarin_using_entropy(X_train, X_test, y_train)\n",
        "      \n",
        "    # Operational Phase\n",
        "    print(\"Results Using Gini Index:\")\n",
        "      \n",
        "    # Prediction using gini\n",
        "    y_pred_gini = prediction(X_test, clf_gini)\n",
        "    cal_accuracy(y_test, y_pred_gini)\n",
        "      \n",
        "    print(\"Results Using Entropy:\")\n",
        "    # Prediction using entropy\n",
        "    y_pred_entropy = prediction(X_test, clf_entropy)\n",
        "    cal_accuracy(y_test, y_pred_entropy)\n",
        "      "
      ],
      "metadata": {
        "id": "iZ6xU9Ghv_bg"
      },
      "execution_count": 56,
      "outputs": []
    },
    {
      "cell_type": "code",
      "source": [
        "main( X_train, X_test, y_train, y_test)"
      ],
      "metadata": {
        "colab": {
          "base_uri": "https://localhost:8080/"
        },
        "id": "gooVms02weWa",
        "outputId": "4fcfcb68-b001-41ad-c2af-963aa1548cb9"
      },
      "execution_count": 57,
      "outputs": [
        {
          "output_type": "stream",
          "name": "stdout",
          "text": [
            "Results Using Gini Index:\n",
            "Predicted values:\n",
            "[1 1 1 1 1 1 1 1 1 1 1 1 1 1 1 1 1 1 1 1 1 1 1 1 1 1 1 1 1 1 1 1 1 1 1 1 1\n",
            " 1 1 1 1 1 1 1 1 1 1 1 1 1 1 1 1 1 1 1 1 1 1 1 1 1 1 1 1 1 1 1 1 1 1 1 1 1\n",
            " 1 1 1 1 1 1 1 1 1 1 1 1 1 1 1 1 1 1 1 1 1 1 1 1 1 1 1 1 1 1 1 1 1 1 1 1 1\n",
            " 1 1 1 1 0 1 1 0 1 1 1 1 1 1 1 1 1 1 1 1 1 1 1 1 1 1 1 1 1 1 1 1 1 1 1 1 1\n",
            " 1 1 1 1 1 1 1 1 1 1 1 1 1 1 1 1 1 1 1 1 1 1 1 1 1 1 1 1 1 1 1 1 1 1 1 1 1\n",
            " 1 1 1 1 1 1 1 1 1 1 1 1 1 1 1 1 1 1 1 1 1 1 1 1 1 1 1 1 1 1 1 1 1 1 1 1 1\n",
            " 1 1 1 1 1 1 1 1 1 1 1 1 1 1 1 1 1 1 1 1 1 1 1 1 1 1 1 1 1 1 1 1 1 1 1 1 1\n",
            " 1 1 1 1 1 1 1 1 1 1 1 1 1 1 1 1 1 0 1 1 1 1 1 1 1 1 1 1 1 1 1 1 1 1 1 1 1\n",
            " 1 1 1 1 1 1 1 1 1 1 1 1 1 1 1 1 1 1 1 1]\n",
            "Confusion Matrix:  [[  1   2]\n",
            " [  2 311]]\n",
            "Accuracy :  98.73417721518987\n",
            "Report :                precision    recall  f1-score   support\n",
            "\n",
            "           0       0.33      0.33      0.33         3\n",
            "           1       0.99      0.99      0.99       313\n",
            "\n",
            "    accuracy                           0.99       316\n",
            "   macro avg       0.66      0.66      0.66       316\n",
            "weighted avg       0.99      0.99      0.99       316\n",
            "\n",
            "Results Using Entropy:\n",
            "Predicted values:\n",
            "[1 1 1 1 1 1 1 1 1 1 1 1 1 1 1 1 1 1 1 1 1 1 1 1 1 1 1 1 1 1 1 1 1 1 1 1 1\n",
            " 1 1 1 1 1 1 1 1 1 1 1 1 1 1 1 1 1 1 1 1 1 1 1 1 1 1 1 1 1 1 1 1 1 1 1 1 1\n",
            " 1 1 1 1 1 1 1 1 1 1 1 1 1 1 1 1 1 1 1 1 1 1 1 1 1 1 1 1 1 1 1 1 1 1 1 1 1\n",
            " 1 1 1 1 0 1 1 1 1 1 1 1 1 1 1 1 1 1 1 1 1 1 1 1 1 1 1 1 1 1 1 1 1 1 1 1 1\n",
            " 1 1 1 1 1 1 1 1 1 1 1 1 1 1 1 1 1 1 1 1 1 1 1 1 1 1 1 1 1 1 1 1 1 1 1 1 1\n",
            " 1 1 1 1 1 1 1 1 1 1 1 1 1 1 1 1 1 1 1 1 1 1 1 1 1 1 1 1 1 1 1 1 1 1 1 1 1\n",
            " 1 1 1 1 1 1 1 1 1 1 1 1 1 1 1 1 1 1 1 1 1 1 1 1 1 1 1 1 1 1 1 1 1 1 1 1 1\n",
            " 1 1 1 1 1 1 1 1 1 1 1 1 1 1 1 1 1 1 1 1 1 1 1 1 1 1 1 1 1 1 1 1 1 1 1 1 1\n",
            " 1 1 1 1 1 1 1 1 1 1 1 1 1 1 1 1 1 1 1 1]\n",
            "Confusion Matrix:  [[  1   2]\n",
            " [  0 313]]\n",
            "Accuracy :  99.36708860759494\n",
            "Report :                precision    recall  f1-score   support\n",
            "\n",
            "           0       1.00      0.33      0.50         3\n",
            "           1       0.99      1.00      1.00       313\n",
            "\n",
            "    accuracy                           0.99       316\n",
            "   macro avg       1.00      0.67      0.75       316\n",
            "weighted avg       0.99      0.99      0.99       316\n",
            "\n"
          ]
        }
      ]
    },
    {
      "cell_type": "code",
      "source": [
        "#Over sampling approach Required to solve this problem SMOTE, ADASYN are the example"
      ],
      "metadata": {
        "id": "6UAIgub-wu4u"
      },
      "execution_count": null,
      "outputs": []
    },
    {
      "cell_type": "code",
      "source": [
        "import imblearn"
      ],
      "metadata": {
        "id": "Pdx5QO4Qyx-u"
      },
      "execution_count": null,
      "outputs": []
    },
    {
      "cell_type": "code",
      "source": [
        "# decision tree  on imbalanced dataset with SMOTE oversampling and random undersampling\n",
        "from numpy import mean\n",
        "from sklearn.datasets import make_classification\n",
        "from sklearn.model_selection import cross_val_score\n",
        "from sklearn.model_selection import RepeatedStratifiedKFold\n",
        "from sklearn.tree import DecisionTreeClassifier\n",
        "from imblearn.pipeline import Pipeline\n",
        "from imblearn.over_sampling import SMOTE\n",
        "from imblearn.under_sampling import RandomUnderSampler\n",
        "# define dataset\n",
        "X, Y = make_classification(n_samples=10000, n_features=2, n_redundant=0,\n",
        "\tn_clusters_per_class=1, weights=[0.99], flip_y=0, random_state=1)\n",
        "# define pipeline\n",
        "model = DecisionTreeClassifier()\n",
        "over = SMOTE(sampling_strategy=0.1)\n",
        "under = RandomUnderSampler(sampling_strategy=0.7)\n",
        "steps = [('over', over), ('under', under), ('model', model)]\n",
        "pipeline = Pipeline(steps=steps)\n",
        "# evaluate pipeline\n",
        "cv = RepeatedStratifiedKFold(n_splits=10, n_repeats=3, random_state=1)\n",
        "scores = cross_val_score(pipeline, X, Y, scoring='roc_auc', cv=cv, n_jobs=-1)\n",
        "print('Mean ROC AUC: %.3f' % mean(scores))"
      ],
      "metadata": {
        "colab": {
          "base_uri": "https://localhost:8080/"
        },
        "id": "06nIuvV8zU1C",
        "outputId": "f8f3cd5f-99b5-4b9f-e61f-ec7bcc6f6cca"
      },
      "execution_count": 62,
      "outputs": [
        {
          "output_type": "stream",
          "name": "stdout",
          "text": [
            "Mean ROC AUC: 0.851\n"
          ]
        }
      ]
    },
    {
      "cell_type": "code",
      "source": [
        "# We can draw AUC ROC Curve"
      ],
      "metadata": {
        "id": "MhnxK0ZG0Znx"
      },
      "execution_count": null,
      "outputs": []
    }
  ]
}